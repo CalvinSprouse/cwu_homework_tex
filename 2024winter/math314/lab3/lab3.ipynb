{
 "cells": [
  {
   "cell_type": "code",
   "execution_count": 2,
   "metadata": {},
   "outputs": [],
   "source": [
    "# imports\n",
    "import os\n",
    "\n",
    "from pathlib import Path\n",
    "\n",
    "import numpy as np\n",
    "import matplotlib.pyplot as plt\n",
    "import matplotlib.ticker as tik\n",
    "\n",
    "from matplotlib import rc\n",
    "from rich import print\n"
   ]
  },
  {
   "cell_type": "code",
   "execution_count": 3,
   "metadata": {},
   "outputs": [],
   "source": [
    "# matplotlib setup\n",
    "\n",
    "%matplotlib inline\n",
    "\n",
    "# matplotlib rc config\n",
    "# increase the font size\n",
    "rc(\"font\", **{\"family\": \"serif\", \"serif\": [\"Times\"], \"size\": 12})\n",
    "rc(\"text\", usetex=False)\n",
    "\n",
    "# figure save location\n",
    "figure_dir = Path(\".figures\")\n",
    "os.makedirs(figure_dir, exist_ok=True)\n"
   ]
  },
  {
   "cell_type": "code",
   "execution_count": 8,
   "metadata": {},
   "outputs": [],
   "source": [
    "# define a binomial distribution function for p\n",
    "def binom(n: int = 50, p: int = 0.5, s: int = 1000):\n",
    "    return np.random.binomial(n=n, p=p, size=s)\n",
    "\n",
    "# sample binom for p values 0 to 1\n",
    "p_vals = np.linspace(0, 1, 10)\n",
    "binom_samples = np.array([binom(p=p_i) for p_i in p_vals])\n"
   ]
  },
  {
   "cell_type": "code",
   "execution_count": 9,
   "metadata": {},
   "outputs": [
    {
     "data": {
      "text/plain": [
       "array([[ 0,  0,  0, ...,  0,  0,  0],\n",
       "       [ 4,  8,  3, ...,  6,  7,  4],\n",
       "       [12, 10, 14, ..., 10, 11, 11],\n",
       "       ...,\n",
       "       [38, 39, 41, ..., 33, 37, 37],\n",
       "       [47, 42, 41, ..., 46, 43, 42],\n",
       "       [50, 50, 50, ..., 50, 50, 50]])"
      ]
     },
     "execution_count": 9,
     "metadata": {},
     "output_type": "execute_result"
    }
   ],
   "source": [
    "binom_samples\n"
   ]
  },
  {
   "cell_type": "code",
   "execution_count": null,
   "metadata": {},
   "outputs": [],
   "source": []
  }
 ],
 "metadata": {
  "kernelspec": {
   "display_name": ".venv",
   "language": "python",
   "name": "python3"
  },
  "language_info": {
   "codemirror_mode": {
    "name": "ipython",
    "version": 3
   },
   "file_extension": ".py",
   "mimetype": "text/x-python",
   "name": "python",
   "nbconvert_exporter": "python",
   "pygments_lexer": "ipython3",
   "version": "3.11.4"
  }
 },
 "nbformat": 4,
 "nbformat_minor": 2
}
